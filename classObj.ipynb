{
 "cells": [
  {
   "cell_type": "code",
   "execution_count": null,
   "id": "5c51d437-7775-4cfc-b7f6-452adf82bb69",
   "metadata": {},
   "outputs": [],
   "source": [
    "\"\"\"\n",
    "1. Write a class called BankAccount that has the following:\n",
    "        • A field called name that stores the name of the account holder.\n",
    "        • A field called amount that stores the amount of money in the account.\n",
    "        • A field called interest_rate that stores the account’s interest rate (as a percentage).\n",
    "        • A constructor that just sets the values of the three fields above.\n",
    "        • A method called apply_interest() that takes no arguments and applies the interest to the\n",
    "        account. It should just modify the amount field and not return anything. For instance, if the\n",
    "        account has $1000 in it and the interest rate is 3%, then the amount variable should be changed\n",
    "        to $1030 ($1000 + 3% interest).\n",
    "        Then test the class, by creating a new BankAccount object for a user named Juan De Hattatime who\n",
    "        has $1000 at 3% interest. Then do the following:\n",
    "        • Use the apply_interest() method to apply the interest to the account.\n",
    "        • Print out how much money is now in the account after applying the interest.\n",
    "        • Change the account’s interest rate to 2%.\n",
    "        • Use the apply_interest() method to apply the interest to the account again.\n",
    "        • Print out how much money is now in the account after applying the interest again.\n",
    "\"\"\""
   ]
  },
  {
   "cell_type": "code",
   "execution_count": 3,
   "id": "9d72833d-01c5-4b2a-b939-c09368987e65",
   "metadata": {},
   "outputs": [
    {
     "data": {
      "text/plain": [
       "1030.0"
      ]
     },
     "execution_count": 3,
     "metadata": {},
     "output_type": "execute_result"
    }
   ],
   "source": [
    "\n",
    "import logging as lg\n",
    "\n",
    "\n",
    "lg.basicConfig(filename=\"bankpro.log\", level=lg.INFO,format = \"%(asctime)s - %(levelname)s - %(funcName)s - %(message)s\")\n",
    "\n",
    "\n",
    "class BankAccount:\n",
    "    \n",
    "    try:\n",
    "        \n",
    "        def __init__(self, name, amount, interest_rate):\n",
    "            self.name = name\n",
    "            self.amount = amount\n",
    "            self.interest_rate = interest_rate\n",
    "            lg.info(\"Following are the details for your account: \")\n",
    "            lg.info(f\"Name : {self.name.upper()} - Amount : {self.amount} Rs - ROI : {self.interest_rate}%\")\n",
    "\n",
    "        def apply_interest(self):\n",
    "            self.new_amount = self.amount + (self.amount * (self.interest_rate/100))\n",
    "            lg.info(self.new_amount)\n",
    "            return self.new_amount\n",
    "    \n",
    "    except:\n",
    "        print(\"error occured\")\n",
    "        lg.info(\"error occured\")\n",
    "    \n",
    "    \n",
    "n = BankAccount(\"nitesh\", 1000, 3)\n",
    "n.apply_interest()"
   ]
  },
  {
   "cell_type": "code",
   "execution_count": null,
   "id": "6d6621e8-c511-4848-b633-3ba816c6e33f",
   "metadata": {},
   "outputs": [],
   "source": [
    "\"\"\" \n",
    "2. Write a class called Item that represents an item for sale. It should have the following:\n",
    "      • Fields representing the name and price of the item\n",
    "      • A constructor that sets those fields,\n",
    "      • A __str__() method that returns a string containing the item name and price, with the price\n",
    "      formatted to exactly 2 decimal places\n",
    "      Test the class by creating a new item object and printing it out\n",
    "    \n",
    "\"\"\"\n"
   ]
  },
  {
   "cell_type": "code",
   "execution_count": 79,
   "id": "edc0da41-2df0-4cbf-86e2-8bdc78d7a59d",
   "metadata": {},
   "outputs": [
    {
     "name": "stdout",
     "output_type": "stream",
     "text": [
      "Product :  iphone\n",
      "Price :  75000\n"
     ]
    },
    {
     "name": "stdout",
     "output_type": "stream",
     "text": [
      "product name : IPHONE & its price is: 75000.00 Rs\n"
     ]
    }
   ],
   "source": [
    "# name = \"iphone\"\n",
    "# price = 75000\n",
    "\n",
    "name = str(input(\"Product : \"))\n",
    "price = int(input(\"Price : \"))\n",
    "\n",
    "\n",
    "class Items():\n",
    "    \n",
    "    \n",
    "    def __init__(self):\n",
    "        \n",
    "        self.name = name.upper()\n",
    "        self.price = price\n",
    "    \n",
    "    def __str__(self):\n",
    "        print(f\"product name : {self.name} & its price is: {self.price:.2f} Rs\")\n",
    "    \n",
    "    \n",
    "\n",
    "brand = Items()\n",
    "brand.__str__()"
   ]
  },
  {
   "cell_type": "code",
   "execution_count": null,
   "id": "f7bbd488-785e-46b3-ab2c-e39b39c5f8a1",
   "metadata": {},
   "outputs": [],
   "source": [
    "\"\"\"\n",
    "3. Write a class called ShoppingCart that might be used in an online store. It should have the following:\n",
    "      • A list of Item objects that represents the items in the shopping cart\n",
    "      • A constructor that creates an empty list of items (the constructor should take no arguments ex\u0002cept self)\n",
    "      • A method called add() that takes a name and a price and adds an Item object with that name\n",
    "      and price to the shopping cart\n",
    "      • A method called total() that takes no arguments and returns the total cost of the items in the\n",
    "      cart\n",
    "      34\n",
    "      • A method called remove_items() that takes an item name (a string) and removes any Item\n",
    "      objects with that name from the shopping cart. It shouldn’t return anything.\n",
    "      • A __str__() method that returns a string containing info on all the items in the shopping cart\n",
    "      Then test out the shopping cart as follows: (1) create a shopping cart; (2) add several items to it; (3)\n",
    "      print the cart’s total cost (using the total() method); (4) remove one of the items types; (5) print out\n",
    "      the cart\n",
    "\n",
    "\"\"\""
   ]
  },
  {
   "cell_type": "code",
   "execution_count": 47,
   "id": "4bc0536b-3040-427a-b3d9-c36861db16b6",
   "metadata": {},
   "outputs": [
    {
     "name": "stdout",
     "output_type": "stream",
     "text": [
      "Products available to buy on todays sale : \n",
      "SN - Products :  Prices\n",
      "1 - Mobile : 25000 Rs\n",
      "2 - Watch : 15000 Rs\n",
      "3 - Laptop : 85000 Rs\n"
     ]
    }
   ],
   "source": [
    "product = [\"Mobile\", \"Watch\", \"Laptop\"]\n",
    "price = [25000, 15000, 85000]\n",
    "\n",
    "mycart = list()\n",
    "mycartprice = list()\n",
    "cart = 0\n",
    "remcart = 0\n",
    "\n",
    "print(\"Products available to buy on todays sale : \")\n",
    "print(\"SN -\", \"Products : \",\"Prices\")\n",
    "for i in range(0,len(product)):\n",
    "        \n",
    "        print(f\"{i+1} - {product[i]} : {price[i]} Rs\")\n",
    "\n",
    "class ShoppingCart():    \n",
    "    def __init__(self):\n",
    "        self.items = product\n",
    "        self.prices = price\n",
    "        \n",
    "    def add(self):\n",
    "        cart = int(input(\"Make select by defining the serial number\"))\n",
    "\n",
    "        if cart > len(product):\n",
    "            print(\"out of range, retry\")\n",
    "\n",
    "        else:\n",
    "            print(f\"Adding the following in to cart: \")\n",
    "            if cart == 1:\n",
    "                print(f\"{product[0]} - {price[0]}\")\n",
    "                mycart.append(product[0])\n",
    "                mycartprice.append(price[0])\n",
    "\n",
    "            elif cart == 2:\n",
    "                print(f\"{product[1]} - {price[1]}\")\n",
    "                mycart.append(product[1])\n",
    "                mycartprice.append(price[1])\n",
    "\n",
    "            elif cart == 3:\n",
    "                print(f\"{product[2]} - {price[2]}\")\n",
    "                mycart.append(product[2])\n",
    "                mycartprice.append(price[2])\n",
    "   \n",
    "\n",
    "    def remove_items(self):\n",
    "        remcart = int(input(\"select product : \"))\n",
    "        \n",
    "        if remcart == 0:\n",
    "            print(\"out of range, retry\")\n",
    "        \n",
    "        elif remcart > len(mycart):\n",
    "                print(\"out of range, retry\")\n",
    "\n",
    "        else:\n",
    "            remcart -=1\n",
    "            print(f\"Removing the following from the cart: \")\n",
    "            print(f\"{mycart[remcart]} - {mycartprice[remcart]}\")\n",
    "            mycart.pop(remcart)\n",
    "            mycartprice.pop(remcart)\n",
    "            \n",
    "            \n",
    "    def fetch_cart(self):\n",
    "        print(\"Products available in your cart : \")\n",
    "        print(\"SN -\", \"Products : \",\"Prices\")\n",
    "        for i in range(0,len(mycart)):\n",
    "            print(f\"{i+1} - {mycart[i]} : {mycartprice[i]} Rs\")\n",
    "            \n",
    "    def total(self):\n",
    "        print(f\"Cart Total : {sum(mycartprice)} Rs\")\n",
    "        \n",
    "\n",
    "    \n",
    "alpha = ShoppingCart()    "
   ]
  },
  {
   "cell_type": "code",
   "execution_count": 60,
   "id": "8fa812dd-a8aa-499d-9925-d7ed25910a30",
   "metadata": {},
   "outputs": [
    {
     "name": "stdout",
     "output_type": "stream",
     "text": [
      "Make select by defining the serial number 3\n"
     ]
    },
    {
     "name": "stdout",
     "output_type": "stream",
     "text": [
      "Adding the following in to cart: \n",
      "Laptop - 85000\n"
     ]
    }
   ],
   "source": [
    "alpha.add()"
   ]
  },
  {
   "cell_type": "code",
   "execution_count": 61,
   "id": "31aa9020-ab61-4af2-9073-447223d79e6e",
   "metadata": {},
   "outputs": [
    {
     "name": "stdout",
     "output_type": "stream",
     "text": [
      "Products available in your cart : \n",
      "SN - Products :  Prices\n",
      "1 - Mobile : 25000 Rs\n",
      "2 - Laptop : 85000 Rs\n",
      "Cart Total : 110000 Rs\n"
     ]
    }
   ],
   "source": [
    "alpha.fetch_cart()\n",
    "alpha.total()"
   ]
  },
  {
   "cell_type": "code",
   "execution_count": 56,
   "id": "dca02184-971a-46d0-b479-09bf0caf3004",
   "metadata": {},
   "outputs": [
    {
     "name": "stdout",
     "output_type": "stream",
     "text": [
      "select product :  3\n"
     ]
    },
    {
     "name": "stdout",
     "output_type": "stream",
     "text": [
      "out of range, retry\n"
     ]
    }
   ],
   "source": [
    "alpha.remove_items()"
   ]
  },
  {
   "cell_type": "code",
   "execution_count": 62,
   "id": "7f2134f2-280e-4fec-8f49-6989acccffaf",
   "metadata": {},
   "outputs": [
    {
     "name": "stdout",
     "output_type": "stream",
     "text": [
      "Cart Total : 110000 Rs\n"
     ]
    }
   ],
   "source": [
    "alpha.total()"
   ]
  },
  {
   "cell_type": "code",
   "execution_count": null,
   "id": "7895c294-61c4-4a24-8b6a-3bbe9b3841bd",
   "metadata": {},
   "outputs": [],
   "source": [
    "\"\"\"\n",
    "4. Write a class called RestaurantCheck. It should have the following:\n",
    "      • Fields called check_number, sales_tax_percent, subtotal, table_number, and server_name\n",
    "      representing an identification for the check, the bill without tax added, the sales tax percentage,\n",
    "      the table number, and the name of the server.\n",
    "      • A constructor that sets the values of all four fields\n",
    "      • A method called calculate_total that takes no arguments (besides self) and returns the total\n",
    "      bill including sales tax.\n",
    "      • A method called print_check that writes to a file called check###.txt, where ### is the check\n",
    "      number and writes information about the check to that file, formatted like below:\n",
    "      Check Number: 443\n",
    "      Sales tax: 6.0%\n",
    "      Subtotal: $23.14\n",
    "      Total: $24.53\n",
    "      Table Number: 17\n",
    "      Server: Sonic the Hedgehog\n",
    "      Test the class by creating a RestaurantCheck object and calling the print_check() method\n",
    "\n",
    "\"\"\""
   ]
  },
  {
   "cell_type": "code",
   "execution_count": 116,
   "id": "c46d9911-3cc5-49d1-99bf-d5c5fb09198a",
   "metadata": {},
   "outputs": [],
   "source": [
    "import os\n",
    "\n",
    "class RestaurantCheck:\n",
    "\n",
    "    def __init__(self, check_number, sales_tax_percent, subtotal, table_number, server_name):\n",
    "\n",
    "        self.check_number = check_number\n",
    "        self.sales_tax_percent = sales_tax_percent\n",
    "        self.subtotal = subtotal\n",
    "        self.table_number = table_number\n",
    "        self.server_name = server_name\n",
    "\n",
    "\n",
    "    def __str__(self):\n",
    "        print(f\"\"\"\n",
    "        checknumber: {self.check_number}\n",
    "        sales tax percent: {self.sales_tax_percent}%,\n",
    "        Subtotal: ${self.subtotal} \n",
    "        Table Number : {self.table_number}\n",
    "        Server Name : {self.server_name}\n",
    "        \"\"\")\n",
    "\n",
    "#A method called calculate_total that takes no arguments (besides self) and returns the total bill including sales tax.\n",
    "    \n",
    "    def calculate_total(self):\n",
    "        #print(self.subtotal)\n",
    "        total  = self.subtotal + (self.subtotal * (self.sales_tax_percent/100))\n",
    "        return total\n",
    "\n",
    "\n",
    "\n",
    "# A method called print_check that writes to a file called check###.txt, where ### is the check number and writes information about the check to that file\n",
    "    def print_check(self):\n",
    "\n",
    "        with open(\"check.txt\", \"a\") as check:\n",
    "            \n",
    "            check.write(f\"\"\"\n",
    "                            Check Number: {self.check_number}\n",
    "                            Sales tax percent: {self.sales_tax_percent}%,\n",
    "                            Subtotal: ${self.subtotal} \n",
    "                            Total: ${self.calculate_total()}\n",
    "                            Table Number : {self.table_number}\n",
    "                            Server Name : {self.server_name}\n",
    "                        \"\"\")\n",
    "\n",
    "\n",
    "\n",
    "\n",
    "\n"
   ]
  },
  {
   "cell_type": "code",
   "execution_count": 117,
   "id": "ebe8bc45-9dbc-4f42-8370-1b0d8473f601",
   "metadata": {},
   "outputs": [],
   "source": [
    "RanglaPunjab = RestaurantCheck(443,6.0,23.14,17,\"Sonic the Hedgehog\")\n",
    "RanglaPunjab.calculate_total()\n",
    "RanglaPunjab.print_check()"
   ]
  },
  {
   "cell_type": "code",
   "execution_count": null,
   "id": "2afde5d9-51fb-4df6-bcd0-71bfdfbb5cb7",
   "metadata": {},
   "outputs": [],
   "source": [
    "\"\"\"\n",
    "5. Write a class called Ticket that has the following:\n",
    "      • A field cost for the price of the ticket and a string field time for the start time of the event\n",
    "      (assume times are in 24-hour format, like '18:35')\n",
    "      • A constructor that sets those variables\n",
    "      • A __str__() method that returns a string of the form Ticket(<cost>, <time>), where\n",
    "      <cost> and <time> are replaced with the values of the cost and time fields.\n",
    "      • A method called is_evening_time() that returns True or False, depending on whether the\n",
    "      time falls in the range from 18:00 to 23:59.\n",
    "      • A method called bulk_discount() that takes an integer n and returns the discount for buying n\n",
    "      tickets. There should be a 10% discount for buying 5 to 9 tickets, and a 20% discount for buying\n",
    "      10 or more. Otherwise, there is no discount. Return these percentages as integers.\n",
    "      Test the class by creating a Ticket item, printing it, calling the is_evening_time() method, and\n",
    "      calling the bulk_discount() method\n",
    "\n",
    "\"\"\""
   ]
  },
  {
   "cell_type": "code",
   "execution_count": 206,
   "id": "ea1d4852-d332-447b-b7ab-a79ecb4f2372",
   "metadata": {},
   "outputs": [],
   "source": [
    "\n",
    "class Tickets():\n",
    "\n",
    "    def __init__(self, tprice, etime):\n",
    "        self.tprice = tprice\n",
    "        self.etime = etime\n",
    "\n",
    "\n",
    "\n",
    "    def __str__(self):\n",
    "        print(\"Journey to Raipur\")\n",
    "        print(f\"Time : {self.etime} and Cost : Rs {self.tprice}\")\n",
    "\n",
    "        # A method called is_evening_time() that returns True or False, depending on whether the time falls in the range from 18:00 to 23:59.\n",
    "    \n",
    "    def is_evening_time(self):\n",
    "        \n",
    "        if  18.00 < float(self.etime) > 23.59:\n",
    "            return True\n",
    "        else:\n",
    "            return False\n",
    "\n",
    "        \"\"\"\n",
    "        A method called bulk_discount() that takes an integer n and returns the discount for buying n tickets. \n",
    "        There should be a 10% discount for buying 5 to 9 tickets, and a 20% discount for buying 10 or more. \n",
    "        Otherwise, there is no discount. Return these percentages as integers.\n",
    "        Test the class by creating a Ticket item, printing it, calling the is_evening_time() method, and calling the bulk_discount() method\n",
    "        \"\"\"\n",
    "        \n",
    "    def bulk_discount(self,n):\n",
    "        self.n = n\n",
    "        if n < 5:\n",
    "            #print(\"No discount applied\")\n",
    "            return 0\n",
    "\n",
    "        if n <= 5 or  n <= 9:\n",
    "            #print(\"Applying discount = 10%\")\n",
    "            return 10\n",
    "\n",
    "        if n >= 10:\n",
    "            #print(\"Applying discount = 20%\")\n",
    "            return 20\n",
    "\n",
    "\n",
    "\n",
    "\n",
    "\n"
   ]
  },
  {
   "cell_type": "code",
   "execution_count": 207,
   "id": "5165eefa-c45a-4160-9ec4-e8b5f82f75f8",
   "metadata": {},
   "outputs": [],
   "source": [
    "mytrain = Tickets(535,\"15.30\")"
   ]
  },
  {
   "cell_type": "code",
   "execution_count": 208,
   "id": "f97b3b07-f12f-4000-ac44-1cc963b95748",
   "metadata": {},
   "outputs": [
    {
     "name": "stdout",
     "output_type": "stream",
     "text": [
      "Journey to Raipur\n",
      "Time : 15.30 and Cost : Rs 535\n"
     ]
    },
    {
     "data": {
      "text/plain": [
       "False"
      ]
     },
     "execution_count": 208,
     "metadata": {},
     "output_type": "execute_result"
    }
   ],
   "source": [
    "mytrain.__str__()\n",
    "mytrain.is_evening_time()\n"
   ]
  },
  {
   "cell_type": "code",
   "execution_count": 209,
   "id": "8a075fd1-4f0a-40bb-aefd-cd68dfb5ad18",
   "metadata": {},
   "outputs": [
    {
     "data": {
      "text/plain": [
       "20"
      ]
     },
     "execution_count": 209,
     "metadata": {},
     "output_type": "execute_result"
    }
   ],
   "source": [
    "mytrain.bulk_discount(13)"
   ]
  },
  {
   "cell_type": "code",
   "execution_count": null,
   "id": "1a75e831-cc79-44cb-b7aa-03e00abb9fc9",
   "metadata": {},
   "outputs": [],
   "source": []
  },
  {
   "cell_type": "code",
   "execution_count": null,
   "id": "f77aea7e-32d9-4dd9-950f-a237bbe693c6",
   "metadata": {},
   "outputs": [],
   "source": []
  },
  {
   "cell_type": "code",
   "execution_count": null,
   "id": "c9fb53f2-b64b-4e87-8e67-892bd3d8cdf3",
   "metadata": {},
   "outputs": [],
   "source": []
  },
  {
   "cell_type": "code",
   "execution_count": null,
   "id": "2c4603a7-6061-4f40-8416-957d7f26c54c",
   "metadata": {},
   "outputs": [],
   "source": []
  }
 ],
 "metadata": {
  "kernelspec": {
   "display_name": "base",
   "language": "python",
   "name": "python3"
  },
  "language_info": {
   "codemirror_mode": {
    "name": "ipython",
    "version": 3
   },
   "file_extension": ".py",
   "mimetype": "text/x-python",
   "name": "python",
   "nbconvert_exporter": "python",
   "pygments_lexer": "ipython3",
   "version": "3.9.12"
  },
  "vscode": {
   "interpreter": {
    "hash": "ec8ce567f215544ef5385698679ad00f7108804f072be75f9d6841a4394852e3"
   }
  }
 },
 "nbformat": 4,
 "nbformat_minor": 5
}
